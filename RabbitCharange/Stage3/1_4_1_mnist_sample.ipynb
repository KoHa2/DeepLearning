{
  "nbformat": 4,
  "nbformat_minor": 0,
  "metadata": {
    "kernelspec": {
      "display_name": "Python 3",
      "language": "python",
      "name": "python3"
    },
    "language_info": {
      "codemirror_mode": {
        "name": "ipython",
        "version": 3
      },
      "file_extension": ".py",
      "mimetype": "text/x-python",
      "name": "python",
      "nbconvert_exporter": "python",
      "pygments_lexer": "ipython3",
      "version": "3.6.3"
    },
    "colab": {
      "name": "1_4_1_mnist_sample.ipynb",
      "provenance": [],
      "collapsed_sections": [],
      "toc_visible": true,
      "include_colab_link": true
    }
  },
  "cells": [
    {
      "cell_type": "markdown",
      "metadata": {
        "id": "view-in-github",
        "colab_type": "text"
      },
      "source": [
        "<a href=\"https://colab.research.google.com/github/KoHa2/DeepLearning/blob/main/RabbitCharange/Stage3/1_4_1_mnist_sample.ipynb\" target=\"_parent\"><img src=\"https://colab.research.google.com/assets/colab-badge.svg\" alt=\"Open In Colab\"/></a>"
      ]
    },
    {
      "cell_type": "markdown",
      "metadata": {
        "id": "8cNl2QA_Rnv5"
      },
      "source": [
        "# 準備"
      ]
    },
    {
      "cell_type": "markdown",
      "metadata": {
        "id": "YkwjN1jNVAYy"
      },
      "source": [
        "## Googleドライブのマウント"
      ]
    },
    {
      "cell_type": "code",
      "metadata": {
        "id": "pvFXpiH3EVC1",
        "colab": {
          "base_uri": "https://localhost:8080/"
        },
        "outputId": "a00bcc88-4b6b-4878-832b-36742f09d1e9"
      },
      "source": [
        "from google.colab import drive\n",
        "drive.mount('/content/drive')"
      ],
      "execution_count": 1,
      "outputs": [
        {
          "output_type": "stream",
          "text": [
            "Mounted at /content/drive\n"
          ],
          "name": "stdout"
        }
      ]
    },
    {
      "cell_type": "markdown",
      "metadata": {
        "id": "3Ub7RYdeY6pK"
      },
      "source": [
        "## sys.pathの設定"
      ]
    },
    {
      "cell_type": "markdown",
      "metadata": {
        "id": "oql7L19rEsWi"
      },
      "source": [
        "以下では，Googleドライブのマイドライブ直下にDNN_codeフォルダを置くことを仮定しています．必要に応じて，パスを変更してください．"
      ]
    },
    {
      "cell_type": "code",
      "metadata": {
        "id": "7Ic2JzkvFX59"
      },
      "source": [
        "import sys\n",
        "sys.path.append('/content/drive/My Drive/E/03.stage3/DNN_code_colab_lesson_1_2')"
      ],
      "execution_count": 2,
      "outputs": []
    },
    {
      "cell_type": "markdown",
      "metadata": {
        "id": "ToUJok-EiuLx"
      },
      "source": [
        "# minst"
      ]
    },
    {
      "cell_type": "code",
      "metadata": {
        "id": "AMva1WVaintz",
        "colab": {
          "base_uri": "https://localhost:8080/",
          "height": 1000
        },
        "outputId": "19ff47fb-4d76-4066-feeb-544e7015c63c"
      },
      "source": [
        "import numpy as np\n",
        "from data.mnist import load_mnist\n",
        "import pickle\n",
        "from common import functions\n",
        "import matplotlib.pyplot as plt\n",
        "\n",
        "# mnistをロード\n",
        "(x_train, d_train), (x_test, d_test) = load_mnist(normalize=True, one_hot_label=True)\n",
        "train_size = len(x_train)\n",
        "\n",
        "print(\"データ読み込み完了\")\n",
        "\n",
        "# 重み初期値補正係数\n",
        "wieght_init = 0.01 # 変更してみよう\n",
        "#入力層サイズ\n",
        "input_layer_size = 784 # 変更してみよう\n",
        "#中間層サイズ\n",
        "hidden_layer_size = 40 # 変更してみよう\n",
        "#出力層サイズ\n",
        "output_layer_size = 10 # 変更してみよう\n",
        "# 繰り返し数\n",
        "iters_num = 1000 # 変更してみよう\n",
        "# ミニバッチサイズ\n",
        "batch_size = 100 # 変更してみよ\n",
        "# 学習率\n",
        "learning_rate = 0.1 # 変更してみよう\n",
        "# 描写頻度\n",
        "plot_interval=10\n",
        "\n",
        "# 初期設定\n",
        "def init_network():\n",
        "    network = {} \n",
        "    network['W1'] = wieght_init * np.random.randn(input_layer_size, hidden_layer_size)\n",
        "    network['W2'] = wieght_init * np.random.randn(hidden_layer_size, output_layer_size)\n",
        "    # 試してみよう_Xavierの初期値\n",
        "    # network['W1'] = np.random.randn(input_layer_size, hidden_layer_size) / np.sqrt(input_layer_size)\n",
        "    # network['W2'] = np.random.randn(hidden_layer_size, output_layer_size) / np.sqrt(hidden_layer_size)\n",
        "    # 試してみよう Heの初期値\n",
        "    # network['W1'] = np.random.randn(input_layer_size, hidden_layer_size) / np.sqrt(input_layer_size) * np.sqrt(2)\n",
        "    # network['W2'] = np.random.randn(hidden_layer_size, output_layer_size) / np.sqrt(hidden_layer_size) * np.sqrt(2)\n",
        "\n",
        "    network['b1'] = np.zeros(hidden_layer_size)\n",
        "    network['b2'] = np.zeros(output_layer_size)\n",
        "\n",
        "    return network\n",
        "\n",
        "# 順伝播\n",
        "def forward(network, x):\n",
        "    W1, W2 = network['W1'], network['W2']\n",
        "    b1, b2  = network['b1'], network['b2']\n",
        "        \n",
        "    u1 =  np.dot(x, W1) + b1\n",
        "    z1 = functions.relu(u1)\n",
        "    u2 =  np.dot(z1, W2) + b2\n",
        "    y = functions.softmax(u2)\n",
        " \n",
        "    return z1, y\n",
        "\n",
        "# 誤差逆伝播\n",
        "def backward(x, d, z1, y):\n",
        "    grad = {}\n",
        "    \n",
        "    W1, W2 = network['W1'], network['W2']\n",
        "    b1, b2 = network['b1'], network['b2']    \n",
        "    # 出力層でのデルタ\n",
        "    delta2 = functions.d_softmax_with_loss(d, y)\n",
        "    # b2の勾配\n",
        "    grad['b2'] = np.sum(delta2, axis=0)\n",
        "    # W2の勾配\n",
        "    grad['W2'] = np.dot(z1.T, delta2)\n",
        "    # 1層でのデルタ\n",
        "    delta1 = np.dot(delta2, W2.T) * functions.d_relu(z1)\n",
        "    # b1の勾配\n",
        "    grad['b1'] = np.sum(delta1, axis=0)\n",
        "    # W1の勾配\n",
        "    grad['W1'] = np.dot(x.T, delta1)\n",
        "\n",
        "    return grad\n",
        "\n",
        "# パラメータの初期化\n",
        "network = init_network()\n",
        "\n",
        "\n",
        "accuracies_train = []\n",
        "accuracies_test = []\n",
        "\n",
        "# 正答率\n",
        "def accuracy(x, d):\n",
        "    z1, y = forward(network, x)\n",
        "    y = np.argmax(y, axis=1)\n",
        "    if d.ndim != 1 : d = np.argmax(d, axis=1)\n",
        "    accuracy = np.sum(y == d) / float(x.shape[0])\n",
        "    return accuracy\n",
        "\n",
        "for i in range(iters_num):\n",
        "    # ランダムにバッチを取得    \n",
        "    batch_mask = np.random.choice(train_size, batch_size)\n",
        "    # ミニバッチに対応する教師訓練画像データを取得    \n",
        "    x_batch = x_train[batch_mask]\n",
        "    # ミニバッチに対応する訓練正解ラベルデータを取得する\n",
        "    d_batch = d_train[batch_mask]\n",
        "\n",
        "\n",
        "    \n",
        "    z1, y = forward(network, x_batch)\n",
        "    grad = backward(x_batch, d_batch, z1, y)\n",
        "\n",
        "    if (i+1)%plot_interval==0:\n",
        "        accr_test = accuracy(x_test, d_test)\n",
        "        accuracies_test.append(accr_test)\n",
        "        \n",
        "        accr_train = accuracy(x_batch, d_batch)\n",
        "        accuracies_train.append(accr_train)\n",
        "\n",
        "        print('Generation: ' + str(i+1) + '. 正答率(トレーニング) = ' + str(accr_train))\n",
        "        print('                : ' + str(i+1) + '. 正答率(テスト) = ' + str(accr_test))\n",
        "\n",
        "    # パラメータに勾配適用\n",
        "    for key in ('W1', 'W2', 'b1', 'b2'):\n",
        "        network[key]  -= learning_rate * grad[key]\n",
        "\n",
        "\n",
        "lists = range(0, iters_num, plot_interval)\n",
        "plt.plot(lists, accuracies_train, label=\"training set\")\n",
        "plt.plot(lists, accuracies_test,  label=\"test set\")\n",
        "plt.legend(loc=\"lower right\")\n",
        "plt.title(\"正答率\")\n",
        "# グラフの表示\n",
        "plt.show()"
      ],
      "execution_count": 3,
      "outputs": [
        {
          "output_type": "stream",
          "text": [
            "データ読み込み完了\n",
            "Generation: 10. 正答率(トレーニング) = 0.17\n",
            "                : 10. 正答率(テスト) = 0.164\n",
            "Generation: 20. 正答率(トレーニング) = 0.12\n",
            "                : 20. 正答率(テスト) = 0.1304\n",
            "Generation: 30. 正答率(トレーニング) = 0.2\n",
            "                : 30. 正答率(テスト) = 0.2168\n",
            "Generation: 40. 正答率(トレーニング) = 0.26\n",
            "                : 40. 正答率(テスト) = 0.232\n",
            "Generation: 50. 正答率(トレーニング) = 0.19\n",
            "                : 50. 正答率(テスト) = 0.2438\n",
            "Generation: 60. 正答率(トレーニング) = 0.34\n",
            "                : 60. 正答率(テスト) = 0.3404\n",
            "Generation: 70. 正答率(トレーニング) = 0.44\n",
            "                : 70. 正答率(テスト) = 0.432\n",
            "Generation: 80. 正答率(トレーニング) = 0.47\n",
            "                : 80. 正答率(テスト) = 0.4984\n",
            "Generation: 90. 正答率(トレーニング) = 0.58\n",
            "                : 90. 正答率(テスト) = 0.594\n",
            "Generation: 100. 正答率(トレーニング) = 0.66\n",
            "                : 100. 正答率(テスト) = 0.6761\n",
            "Generation: 110. 正答率(トレーニング) = 0.75\n",
            "                : 110. 正答率(テスト) = 0.7186\n",
            "Generation: 120. 正答率(トレーニング) = 0.73\n",
            "                : 120. 正答率(テスト) = 0.7608\n",
            "Generation: 130. 正答率(トレーニング) = 0.8\n",
            "                : 130. 正答率(テスト) = 0.7754\n",
            "Generation: 140. 正答率(トレーニング) = 0.83\n",
            "                : 140. 正答率(テスト) = 0.8074\n",
            "Generation: 150. 正答率(トレーニング) = 0.74\n",
            "                : 150. 正答率(テスト) = 0.7942\n",
            "Generation: 160. 正答率(トレーニング) = 0.84\n",
            "                : 160. 正答率(テスト) = 0.8206\n",
            "Generation: 170. 正答率(トレーニング) = 0.92\n",
            "                : 170. 正答率(テスト) = 0.8312\n",
            "Generation: 180. 正答率(トレーニング) = 0.81\n",
            "                : 180. 正答率(テスト) = 0.8427\n",
            "Generation: 190. 正答率(トレーニング) = 0.8\n",
            "                : 190. 正答率(テスト) = 0.8476\n",
            "Generation: 200. 正答率(トレーニング) = 0.89\n",
            "                : 200. 正答率(テスト) = 0.8518\n",
            "Generation: 210. 正答率(トレーニング) = 0.76\n",
            "                : 210. 正答率(テスト) = 0.8474\n",
            "Generation: 220. 正答率(トレーニング) = 0.84\n",
            "                : 220. 正答率(テスト) = 0.854\n",
            "Generation: 230. 正答率(トレーニング) = 0.85\n",
            "                : 230. 正答率(テスト) = 0.8659\n",
            "Generation: 240. 正答率(トレーニング) = 0.81\n",
            "                : 240. 正答率(テスト) = 0.871\n",
            "Generation: 250. 正答率(トレーニング) = 0.85\n",
            "                : 250. 正答率(テスト) = 0.8734\n",
            "Generation: 260. 正答率(トレーニング) = 0.78\n",
            "                : 260. 正答率(テスト) = 0.8666\n",
            "Generation: 270. 正答率(トレーニング) = 0.82\n",
            "                : 270. 正答率(テスト) = 0.8723\n",
            "Generation: 280. 正答率(トレーニング) = 0.86\n",
            "                : 280. 正答率(テスト) = 0.8735\n",
            "Generation: 290. 正答率(トレーニング) = 0.89\n",
            "                : 290. 正答率(テスト) = 0.8774\n",
            "Generation: 300. 正答率(トレーニング) = 0.86\n",
            "                : 300. 正答率(テスト) = 0.8792\n",
            "Generation: 310. 正答率(トレーニング) = 0.9\n",
            "                : 310. 正答率(テスト) = 0.8809\n",
            "Generation: 320. 正答率(トレーニング) = 0.9\n",
            "                : 320. 正答率(テスト) = 0.8851\n",
            "Generation: 330. 正答率(トレーニング) = 0.87\n",
            "                : 330. 正答率(テスト) = 0.885\n",
            "Generation: 340. 正答率(トレーニング) = 0.85\n",
            "                : 340. 正答率(テスト) = 0.8863\n",
            "Generation: 350. 正答率(トレーニング) = 0.86\n",
            "                : 350. 正答率(テスト) = 0.886\n",
            "Generation: 360. 正答率(トレーニング) = 0.86\n",
            "                : 360. 正答率(テスト) = 0.8883\n",
            "Generation: 370. 正答率(トレーニング) = 0.9\n",
            "                : 370. 正答率(テスト) = 0.8819\n",
            "Generation: 380. 正答率(トレーニング) = 0.9\n",
            "                : 380. 正答率(テスト) = 0.8907\n",
            "Generation: 390. 正答率(トレーニング) = 0.85\n",
            "                : 390. 正答率(テスト) = 0.8891\n",
            "Generation: 400. 正答率(トレーニング) = 0.9\n",
            "                : 400. 正答率(テスト) = 0.8901\n",
            "Generation: 410. 正答率(トレーニング) = 0.93\n",
            "                : 410. 正答率(テスト) = 0.8941\n",
            "Generation: 420. 正答率(トレーニング) = 0.89\n",
            "                : 420. 正答率(テスト) = 0.8963\n",
            "Generation: 430. 正答率(トレーニング) = 0.86\n",
            "                : 430. 正答率(テスト) = 0.8978\n",
            "Generation: 440. 正答率(トレーニング) = 0.88\n",
            "                : 440. 正答率(テスト) = 0.8979\n",
            "Generation: 450. 正答率(トレーニング) = 0.88\n",
            "                : 450. 正答率(テスト) = 0.8986\n",
            "Generation: 460. 正答率(トレーニング) = 0.88\n",
            "                : 460. 正答率(テスト) = 0.8971\n",
            "Generation: 470. 正答率(トレーニング) = 0.87\n",
            "                : 470. 正答率(テスト) = 0.891\n",
            "Generation: 480. 正答率(トレーニング) = 0.91\n",
            "                : 480. 正答率(テスト) = 0.8986\n",
            "Generation: 490. 正答率(トレーニング) = 0.87\n",
            "                : 490. 正答率(テスト) = 0.8973\n",
            "Generation: 500. 正答率(トレーニング) = 0.93\n",
            "                : 500. 正答率(テスト) = 0.8991\n",
            "Generation: 510. 正答率(トレーニング) = 0.83\n",
            "                : 510. 正答率(テスト) = 0.901\n",
            "Generation: 520. 正答率(トレーニング) = 0.92\n",
            "                : 520. 正答率(テスト) = 0.9025\n",
            "Generation: 530. 正答率(トレーニング) = 0.89\n",
            "                : 530. 正答率(テスト) = 0.904\n",
            "Generation: 540. 正答率(トレーニング) = 0.95\n",
            "                : 540. 正答率(テスト) = 0.904\n",
            "Generation: 550. 正答率(トレーニング) = 0.89\n",
            "                : 550. 正答率(テスト) = 0.9021\n",
            "Generation: 560. 正答率(トレーニング) = 0.88\n",
            "                : 560. 正答率(テスト) = 0.903\n",
            "Generation: 570. 正答率(トレーニング) = 0.86\n",
            "                : 570. 正答率(テスト) = 0.9067\n",
            "Generation: 580. 正答率(トレーニング) = 0.95\n",
            "                : 580. 正答率(テスト) = 0.9068\n",
            "Generation: 590. 正答率(トレーニング) = 0.94\n",
            "                : 590. 正答率(テスト) = 0.9046\n",
            "Generation: 600. 正答率(トレーニング) = 0.89\n",
            "                : 600. 正答率(テスト) = 0.9069\n",
            "Generation: 610. 正答率(トレーニング) = 0.93\n",
            "                : 610. 正答率(テスト) = 0.91\n",
            "Generation: 620. 正答率(トレーニング) = 0.93\n",
            "                : 620. 正答率(テスト) = 0.9071\n",
            "Generation: 630. 正答率(トレーニング) = 0.88\n",
            "                : 630. 正答率(テスト) = 0.9057\n",
            "Generation: 640. 正答率(トレーニング) = 0.94\n",
            "                : 640. 正答率(テスト) = 0.9088\n",
            "Generation: 650. 正答率(トレーニング) = 0.89\n",
            "                : 650. 正答率(テスト) = 0.9096\n",
            "Generation: 660. 正答率(トレーニング) = 0.84\n",
            "                : 660. 正答率(テスト) = 0.9076\n",
            "Generation: 670. 正答率(トレーニング) = 0.95\n",
            "                : 670. 正答率(テスト) = 0.9083\n",
            "Generation: 680. 正答率(トレーニング) = 0.86\n",
            "                : 680. 正答率(テスト) = 0.9108\n",
            "Generation: 690. 正答率(トレーニング) = 0.92\n",
            "                : 690. 正答率(テスト) = 0.9102\n",
            "Generation: 700. 正答率(トレーニング) = 0.95\n",
            "                : 700. 正答率(テスト) = 0.9113\n",
            "Generation: 710. 正答率(トレーニング) = 0.94\n",
            "                : 710. 正答率(テスト) = 0.9124\n",
            "Generation: 720. 正答率(トレーニング) = 0.83\n",
            "                : 720. 正答率(テスト) = 0.9108\n",
            "Generation: 730. 正答率(トレーニング) = 0.94\n",
            "                : 730. 正答率(テスト) = 0.912\n",
            "Generation: 740. 正答率(トレーニング) = 0.87\n",
            "                : 740. 正答率(テスト) = 0.9092\n",
            "Generation: 750. 正答率(トレーニング) = 0.9\n",
            "                : 750. 正答率(テスト) = 0.9101\n",
            "Generation: 760. 正答率(トレーニング) = 0.96\n",
            "                : 760. 正答率(テスト) = 0.9117\n",
            "Generation: 770. 正答率(トレーニング) = 0.84\n",
            "                : 770. 正答率(テスト) = 0.9118\n",
            "Generation: 780. 正答率(トレーニング) = 0.95\n",
            "                : 780. 正答率(テスト) = 0.9136\n",
            "Generation: 790. 正答率(トレーニング) = 0.89\n",
            "                : 790. 正答率(テスト) = 0.9102\n",
            "Generation: 800. 正答率(トレーニング) = 0.91\n",
            "                : 800. 正答率(テスト) = 0.9116\n",
            "Generation: 810. 正答率(トレーニング) = 0.91\n",
            "                : 810. 正答率(テスト) = 0.9158\n",
            "Generation: 820. 正答率(トレーニング) = 0.89\n",
            "                : 820. 正答率(テスト) = 0.9162\n",
            "Generation: 830. 正答率(トレーニング) = 0.91\n",
            "                : 830. 正答率(テスト) = 0.9154\n",
            "Generation: 840. 正答率(トレーニング) = 0.9\n",
            "                : 840. 正答率(テスト) = 0.9139\n",
            "Generation: 850. 正答率(トレーニング) = 0.9\n",
            "                : 850. 正答率(テスト) = 0.9148\n",
            "Generation: 860. 正答率(トレーニング) = 0.96\n",
            "                : 860. 正答率(テスト) = 0.9143\n",
            "Generation: 870. 正答率(トレーニング) = 0.89\n",
            "                : 870. 正答率(テスト) = 0.9177\n",
            "Generation: 880. 正答率(トレーニング) = 0.93\n",
            "                : 880. 正答率(テスト) = 0.9136\n",
            "Generation: 890. 正答率(トレーニング) = 0.95\n",
            "                : 890. 正答率(テスト) = 0.9155\n",
            "Generation: 900. 正答率(トレーニング) = 0.94\n",
            "                : 900. 正答率(テスト) = 0.9176\n",
            "Generation: 910. 正答率(トレーニング) = 0.98\n",
            "                : 910. 正答率(テスト) = 0.9178\n",
            "Generation: 920. 正答率(トレーニング) = 0.92\n",
            "                : 920. 正答率(テスト) = 0.9204\n",
            "Generation: 930. 正答率(トレーニング) = 0.88\n",
            "                : 930. 正答率(テスト) = 0.9197\n",
            "Generation: 940. 正答率(トレーニング) = 0.91\n",
            "                : 940. 正答率(テスト) = 0.919\n",
            "Generation: 950. 正答率(トレーニング) = 0.94\n",
            "                : 950. 正答率(テスト) = 0.92\n",
            "Generation: 960. 正答率(トレーニング) = 0.91\n",
            "                : 960. 正答率(テスト) = 0.9177\n",
            "Generation: 970. 正答率(トレーニング) = 0.94\n",
            "                : 970. 正答率(テスト) = 0.9199\n",
            "Generation: 980. 正答率(トレーニング) = 0.93\n",
            "                : 980. 正答率(テスト) = 0.9202\n",
            "Generation: 990. 正答率(トレーニング) = 0.95\n",
            "                : 990. 正答率(テスト) = 0.9206\n",
            "Generation: 1000. 正答率(トレーニング) = 0.89\n",
            "                : 1000. 正答率(テスト) = 0.9195\n"
          ],
          "name": "stdout"
        },
        {
          "output_type": "stream",
          "text": [
            "/usr/local/lib/python3.7/dist-packages/matplotlib/backends/backend_agg.py:214: RuntimeWarning: Glyph 27491 missing from current font.\n",
            "  font.set_text(s, 0.0, flags=flags)\n",
            "/usr/local/lib/python3.7/dist-packages/matplotlib/backends/backend_agg.py:214: RuntimeWarning: Glyph 31572 missing from current font.\n",
            "  font.set_text(s, 0.0, flags=flags)\n",
            "/usr/local/lib/python3.7/dist-packages/matplotlib/backends/backend_agg.py:214: RuntimeWarning: Glyph 29575 missing from current font.\n",
            "  font.set_text(s, 0.0, flags=flags)\n",
            "/usr/local/lib/python3.7/dist-packages/matplotlib/backends/backend_agg.py:183: RuntimeWarning: Glyph 27491 missing from current font.\n",
            "  font.set_text(s, 0, flags=flags)\n",
            "/usr/local/lib/python3.7/dist-packages/matplotlib/backends/backend_agg.py:183: RuntimeWarning: Glyph 31572 missing from current font.\n",
            "  font.set_text(s, 0, flags=flags)\n",
            "/usr/local/lib/python3.7/dist-packages/matplotlib/backends/backend_agg.py:183: RuntimeWarning: Glyph 29575 missing from current font.\n",
            "  font.set_text(s, 0, flags=flags)\n"
          ],
          "name": "stderr"
        },
        {
          "output_type": "display_data",
          "data": {
            "image/png": "[encoded data removed]",
            "text/plain": [
              "<Figure size 432x288 with 1 Axes>"
            ]
          },
          "metadata": {
            "tags": [],
            "needs_background": "light"
          }
        }
      ]
    },
    {
      "cell_type": "code",
      "metadata": {
        "id": "1Yqykojyint3"
      },
      "source": [
        ""
      ],
      "execution_count": 3,
      "outputs": []
    }
  ]
}